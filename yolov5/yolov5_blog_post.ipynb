{
 "cells": [
  {
   "cell_type": "code",
   "execution_count": null,
   "id": "241fcbdc-65d3-49d5-b8f9-63fe79c48bd4",
   "metadata": {},
   "outputs": [],
   "source": [
    "!git clone https://github.com/ultralytics/yolov5\n",
    "%cd yolov5\n",
    "%pip install -r requirements.txt\n",
    "%cd -"
   ]
  },
  {
   "cell_type": "code",
   "execution_count": null,
   "id": "61d26215-efd0-4824-8aa5-88be1c39c73c",
   "metadata": {},
   "outputs": [],
   "source": [
    "%pip install tqdm datasets wandb joblib"
   ]
  },
  {
   "cell_type": "code",
   "execution_count": null,
   "id": "23a677be-4fd7-4b10-8641-627cecdc914c",
   "metadata": {},
   "outputs": [],
   "source": [
    "%python main.py"
   ]
  },
  {
   "cell_type": "code",
   "execution_count": null,
   "id": "2fe4f31c-3380-4ab2-928b-bf04a4ad4914",
   "metadata": {},
   "outputs": [],
   "source": [
    "import sys \n",
    "  \n",
    "from prepare_dataset import (\n",
    "    convert_to_yolov5_format, \n",
    "    create_yolov5_dataset_yaml, \n",
    "    download_dataset\n",
    ")\n",
    "from yolov5.utils.downloads import attempt_download\n",
    "\n",
    "\n",
    "wider_face = download_dataset()\n",
    "\n",
    "convert_to_yolov5_format(wider_face, dst_dir=\"./yolov5/data/train\")\n",
    "convert_to_yolov5_format(wider_face, dst_dir=\"./yolov5/data/test\")\n",
    "create_yolov5_dataset_yaml(\"./yolov5/data/train\", \"./yolov5/data/test\")\n",
    "\n",
    "sys.path.append('yolov5')\n",
    "attempt_download('yolov5/weights/yolov5s.pt')\n",
    "attempt_download('yolov5/weights/yolov5m.pt')\n",
    "attempt_download('yolov5/weights/yolov5l.pt')"
   ]
  },
  {
   "cell_type": "code",
   "execution_count": null,
   "id": "cf00468f-08fa-4003-826d-75bfb2df2d8a",
   "metadata": {},
   "outputs": [],
   "source": [
    "!python -m torch.distributed.launch --nproc_per_node 2 train.py --data data/wider_face.yaml --batch-size 32 --epochs 10 --img-size 768 --project runs/train --name wider_face --weights weights/yolov5s.pt --device 0"
   ]
  },
  {
   "cell_type": "code",
   "execution_count": null,
   "id": "0cfd4806-07af-4acf-86e1-fd44097a2143",
   "metadata": {},
   "outputs": [],
   "source": [
    "!python -m torch.distributed.launch --nproc_per_node 2 train.py --data data/wider_face.yaml --batch-size 32 --epochs 10 --img-size 768 --project runs/train --name wider_face --weights weights/yolov5m.pt --device 0"
   ]
  },
  {
   "cell_type": "code",
   "execution_count": null,
   "id": "3f01d37e-e61c-4fe3-980b-6414e2018f58",
   "metadata": {},
   "outputs": [],
   "source": [
    "!python -m torch.distributed.launch --nproc_per_node 2 train.py --data data/wider_face.yaml --batch-size 32 --epochs 10 --img-size 768 --project runs/train --name wider_face --weights weights/yolov5l.pt --device 0"
   ]
  }
 ],
 "metadata": {
  "kernelspec": {
   "display_name": "Python 3 (ipykernel)",
   "language": "python",
   "name": "python3"
  },
  "language_info": {
   "codemirror_mode": {
    "name": "ipython",
    "version": 3
   },
   "file_extension": ".py",
   "mimetype": "text/x-python",
   "name": "python",
   "nbconvert_exporter": "python",
   "pygments_lexer": "ipython3",
   "version": "3.10.4"
  }
 },
 "nbformat": 4,
 "nbformat_minor": 5
}
